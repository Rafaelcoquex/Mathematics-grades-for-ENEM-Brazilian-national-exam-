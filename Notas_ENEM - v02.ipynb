{
 "cells": [
  {
   "cell_type": "code",
   "execution_count": 211,
   "metadata": {},
   "outputs": [],
   "source": [
    "# Packages\n",
    "import pandas as pd\n",
    "import numpy as np\n",
    "import matplotlib.pyplot as plt\n",
    "from pandas_profiling import ProfileReport\n",
    "import matplotlib as mpl\n",
    "from sklearn import linear_model\n",
    "from sklearn.metrics import r2_score\n",
    "from sklearn.pipeline import make_pipeline\n",
    "from sklearn.model_selection import train_test_split\n",
    "from sklearn.linear_model import LinearRegression\n",
    "from sklearn.tree import DecisionTreeRegressor\n",
    "from sklearn.ensemble import AdaBoostRegressor\n",
    "from sklearn.ensemble import GradientBoostingRegressor\n",
    "from sklearn.metrics import mean_squared_error"
   ]
  },
  {
   "cell_type": "code",
   "execution_count": 267,
   "metadata": {},
   "outputs": [],
   "source": [
    "# Loading data\n",
    "notas_treino = pd.read_csv('train.csv')\n",
    "\n",
    "# Verifying and removing columns with unique values\n",
    "counts = notas_treino.nunique()\n",
    "to_del = [i for i,v in enumerate(counts) if v == 1]\n",
    "\n",
    "# Columns to be removed\n",
    "to_del1 = [1,2,3,4,5,7,8,9,10,11,12,13,14,15,18,19,20,21,22,23,24,25,26,27,28,29,30,31,32,33,34,35,36,37,38,39,40,41,42,43,44,45,46,47,48,49,50,51,52,53,54,55,56,57,58,59,60,61,62,63,64,68,69,70,71,72,77,78,79,80,81,82,83,84,85,86]\n",
    "df_n_t = notas_treino.drop(notas_treino.columns[to_del], axis=1)\n",
    "df_n_t = df_n_t.drop(df_n_t.columns[to_del1], axis=1)\n",
    "df_notas_treino = df_n_t.iloc[:,1:-50]\n",
    "\n",
    "# Trasforming TP_SEXO in numeric\n",
    "sexo = {\"TP_SEXO\": {\"M\": 1, \"F\": 2}}\n",
    "df_notas_treino.replace(sexo, inplace=True)"
   ]
  },
  {
   "cell_type": "code",
   "execution_count": 268,
   "metadata": {},
   "outputs": [
    {
     "data": {
      "text/plain": [
       "NU_IDADE             int64\n",
       "TP_ANO_CONCLUIU      int64\n",
       "TP_ESCOLA            int64\n",
       "TP_PRESENCA_CN       int64\n",
       "TP_PRESENCA_CH       int64\n",
       "TP_PRESENCA_LC       int64\n",
       "NU_NOTA_CN         float64\n",
       "NU_NOTA_CH         float64\n",
       "NU_NOTA_LC         float64\n",
       "NU_NOTA_MT         float64\n",
       "NU_NOTA_COMP1      float64\n",
       "NU_NOTA_COMP2      float64\n",
       "NU_NOTA_COMP3      float64\n",
       "NU_NOTA_COMP4      float64\n",
       "NU_NOTA_COMP5      float64\n",
       "NU_NOTA_REDACAO    float64\n",
       "dtype: object"
      ]
     },
     "execution_count": 268,
     "metadata": {},
     "output_type": "execute_result"
    }
   ],
   "source": [
    "# Data types\n",
    "df_notas_treino.dtypes"
   ]
  },
  {
   "cell_type": "code",
   "execution_count": 269,
   "metadata": {},
   "outputs": [],
   "source": [
    "# Replacing the values equal to zero with the average of the data\n",
    "df_notas_treino = df_notas_treino.fillna(df_notas_treino.mean()['NU_NOTA_COMP1':'NU_NOTA_REDACAO'])\n",
    "\n",
    "df_notas_treino['NU_NOTA_CN'] = df_notas_treino['NU_NOTA_CN'].fillna(0)\n",
    "df_notas_treino['NU_NOTA_CH'] = df_notas_treino['NU_NOTA_CH'].fillna(0)\n",
    "df_notas_treino['NU_NOTA_LC'] = df_notas_treino['NU_NOTA_LC'].fillna(0)\n",
    "df_notas_treino['NU_NOTA_MT'] = df_notas_treino['NU_NOTA_MT'].fillna(0)\n",
    "\n",
    "#Truncation and rounding\n",
    "df_notas_treino['NU_NOTA_REDACAO'] = df_notas_treino['NU_NOTA_REDACAO'].round(decimals = 0)\n",
    "df_notas_treino['NU_NOTA_COMP1'] = df_notas_treino['NU_NOTA_COMP1'].round(decimals = 0)\n",
    "df_notas_treino['NU_NOTA_COMP2'] = df_notas_treino['NU_NOTA_COMP2'].round(decimals = 0)\n",
    "df_notas_treino['NU_NOTA_COMP3'] = df_notas_treino['NU_NOTA_COMP3'].round(decimals = 0)\n",
    "df_notas_treino['NU_NOTA_COMP4'] = df_notas_treino['NU_NOTA_COMP4'].round(decimals = 0)\n",
    "df_notas_treino['NU_NOTA_COMP5'] = df_notas_treino['NU_NOTA_COMP5'].round(decimals = 0)"
   ]
  },
  {
   "cell_type": "code",
   "execution_count": 270,
   "metadata": {},
   "outputs": [
    {
     "name": "stdout",
     "output_type": "stream",
     "text": [
      "NU_IDADE           0\n",
      "TP_ANO_CONCLUIU    0\n",
      "TP_ESCOLA          0\n",
      "TP_PRESENCA_CN     0\n",
      "TP_PRESENCA_CH     0\n",
      "TP_PRESENCA_LC     0\n",
      "NU_NOTA_CN         0\n",
      "NU_NOTA_CH         0\n",
      "NU_NOTA_LC         0\n",
      "NU_NOTA_MT         0\n",
      "NU_NOTA_COMP1      0\n",
      "NU_NOTA_COMP2      0\n",
      "NU_NOTA_COMP3      0\n",
      "NU_NOTA_COMP4      0\n",
      "NU_NOTA_COMP5      0\n",
      "NU_NOTA_REDACAO    0\n",
      "dtype: int64\n"
     ]
    }
   ],
   "source": [
    "# Verifying missing values\n",
    "print(df_notas_treino.isna().sum())"
   ]
  },
  {
   "cell_type": "code",
   "execution_count": 271,
   "metadata": {},
   "outputs": [
    {
     "data": {
      "text/plain": [
       "(13730, 16)"
      ]
     },
     "execution_count": 271,
     "metadata": {},
     "output_type": "execute_result"
    }
   ],
   "source": [
    "df_notas_treino.shape"
   ]
  },
  {
   "cell_type": "code",
   "execution_count": 273,
   "metadata": {},
   "outputs": [],
   "source": [
    "# Data evaluation report\n",
    "profile = ProfileReport(df_notas_treino)\n",
    "profile"
   ]
  },
  {
   "cell_type": "code",
   "execution_count": null,
   "metadata": {},
   "outputs": [],
   "source": [
    "# Moving target column to the end\n",
    "cols_to_move = ['NU_NOTA_MT']\n",
    "new_cols = np.hstack((df_notas_treino.columns.difference(cols_to_move), cols_to_move))\n",
    "df_notas_treino = df_notas_treino.loc[:, new_cols]"
   ]
  },
  {
   "cell_type": "code",
   "execution_count": null,
   "metadata": {},
   "outputs": [],
   "source": [
    "# Normalizing data\n",
    "df_norm = (df_notas_treino - df_notas_treino.mean()) / (df_notas_treino.max() - df_notas_treino.min())\n",
    "\n",
    "# Collecting x and y\n",
    "X = df_norm.iloc[:, 0:15]  \n",
    "y = df_notas_treino.iloc[:, 15]"
   ]
  },
  {
   "cell_type": "code",
   "execution_count": null,
   "metadata": {},
   "outputs": [],
   "source": [
    "# Trainning and test division\n",
    "X_train, X_test, y_train, y_test = train_test_split(X, y, test_size=0.2, random_state = 42)"
   ]
  },
  {
   "cell_type": "code",
   "execution_count": null,
   "metadata": {},
   "outputs": [],
   "source": [
    "#Transforming data in array\n",
    "DT_X_train = np.array(X_train)\n",
    "DT_y_train = np.array(y_train)\n",
    "DT_X_test = np.array(X_test)\n",
    "DT_y_test = np.array(y_test)"
   ]
  },
  {
   "cell_type": "markdown",
   "metadata": {},
   "source": [
    "## Trainning the model: LinearRegression"
   ]
  },
  {
   "cell_type": "code",
   "execution_count": 231,
   "metadata": {},
   "outputs": [],
   "source": [
    "# Creating the model\n",
    "modelo = LinearRegression(normalize = False, fit_intercept = True)"
   ]
  },
  {
   "cell_type": "code",
   "execution_count": 232,
   "metadata": {},
   "outputs": [],
   "source": [
    "# Trainning the model\n",
    "modelo_v1 = modelo.fit(X_train, y_train)"
   ]
  },
  {
   "cell_type": "code",
   "execution_count": 233,
   "metadata": {},
   "outputs": [
    {
     "data": {
      "text/plain": [
       "0.9115462637903832"
      ]
     },
     "execution_count": 233,
     "metadata": {},
     "output_type": "execute_result"
    }
   ],
   "source": [
    "# R2 metric of the model\n",
    "r2_score(y_test, modelo_v1.fit(X_train, y_train).predict(X_test))"
   ]
  },
  {
   "cell_type": "markdown",
   "metadata": {},
   "source": [
    "## Trainning the model: Decision Tree (using DecisionTreeRegressor)"
   ]
  },
  {
   "cell_type": "code",
   "execution_count": 283,
   "metadata": {},
   "outputs": [],
   "source": [
    "modelo_v2 = DecisionTreeRegressor(max_depth = None, \n",
    "                                   max_features = None, \n",
    "                                   min_samples_leaf = 7, \n",
    "                                   min_samples_split = 2)"
   ]
  },
  {
   "cell_type": "code",
   "execution_count": 281,
   "metadata": {},
   "outputs": [
    {
     "data": {
      "text/plain": [
       "DecisionTreeRegressor(min_samples_leaf=6)"
      ]
     },
     "execution_count": 281,
     "metadata": {},
     "output_type": "execute_result"
    }
   ],
   "source": [
    "modelo_v2.fit(DT_X_train, DT_y_train)"
   ]
  },
  {
   "cell_type": "code",
   "execution_count": 282,
   "metadata": {},
   "outputs": [
    {
     "data": {
      "text/plain": [
       "0.8939222520393747"
      ]
     },
     "execution_count": 282,
     "metadata": {},
     "output_type": "execute_result"
    }
   ],
   "source": [
    "r2_score(DT_y_test, modelo_v2.fit(DT_X_train, DT_y_train).predict(DT_X_test))"
   ]
  },
  {
   "cell_type": "markdown",
   "metadata": {},
   "source": [
    "### Applying AdaBoostRegressor"
   ]
  },
  {
   "cell_type": "code",
   "execution_count": 284,
   "metadata": {},
   "outputs": [],
   "source": [
    "modelo_v2a = AdaBoostRegressor(DecisionTreeRegressor(max_depth=None),\n",
    "                          n_estimators=650)"
   ]
  },
  {
   "cell_type": "code",
   "execution_count": 285,
   "metadata": {},
   "outputs": [
    {
     "data": {
      "text/plain": [
       "AdaBoostRegressor(base_estimator=DecisionTreeRegressor(), n_estimators=650)"
      ]
     },
     "execution_count": 285,
     "metadata": {},
     "output_type": "execute_result"
    }
   ],
   "source": [
    "modelo_v2a.fit(DT_X_train, DT_y_train)"
   ]
  },
  {
   "cell_type": "markdown",
   "metadata": {},
   "source": [
    "## Trainning the model: Decision Tree (using GradientBoostingRegressor)"
   ]
  },
  {
   "cell_type": "code",
   "execution_count": 344,
   "metadata": {},
   "outputs": [
    {
     "data": {
      "text/plain": [
       "GradientBoostingRegressor(learning_rate=0.07, max_depth=2, random_state=0)"
      ]
     },
     "execution_count": 344,
     "metadata": {},
     "output_type": "execute_result"
    }
   ],
   "source": [
    "# Creates the regressor\n",
    "modelo_v3 = GradientBoostingRegressor(learning_rate = 0.07, max_depth = 2, random_state = 0, loss = 'ls')\n",
    "# Trainning the regressor\n",
    "modelo_v3.fit(DT_X_train, DT_y_train)"
   ]
  },
  {
   "cell_type": "code",
   "execution_count": 345,
   "metadata": {},
   "outputs": [
    {
     "data": {
      "text/plain": [
       "4037.7520328071323"
      ]
     },
     "execution_count": 345,
     "metadata": {},
     "output_type": "execute_result"
    }
   ],
   "source": [
    "# Calculates the average error squared\n",
    "mean_squared_error(DT_y_test, modelo_v3.predict(DT_X_test))"
   ]
  },
  {
   "cell_type": "markdown",
   "metadata": {},
   "source": [
    "### Preparing Test Data"
   ]
  },
  {
   "cell_type": "code",
   "execution_count": 263,
   "metadata": {},
   "outputs": [],
   "source": [
    "notas_teste = pd.read_csv('test.csv')\n",
    "to_del_teste = [1,2,4,5,6,7,10,11,12,13,14,15,16,17,18,19,20,24,25,26,27,31,32,39,40,41,42,43,44,45,46]\n",
    "df_notas_teste = notas_teste.drop(notas_teste.columns[to_del_teste], axis=1)\n",
    "\n",
    "# Trasforming TP_SEXO in numeric\n",
    "sexo_teste = {\"TP_SEXO\": {\"M\": 1, \"F\": 2}}\n",
    "df_notas_teste.replace(sexo_teste, inplace=True)"
   ]
  },
  {
   "cell_type": "code",
   "execution_count": 264,
   "metadata": {},
   "outputs": [],
   "source": [
    "# Replacing the values equal to zero with the average of the data\n",
    "df_notas_teste = df_notas_teste.fillna(df_notas_teste.mean()['NU_NOTA_COMP1':'NU_NOTA_REDACAO'])\n",
    "\n",
    "df_notas_teste['NU_NOTA_CN'] = df_notas_teste['NU_NOTA_CN'].fillna(0)\n",
    "df_notas_teste['NU_NOTA_CH'] = df_notas_teste['NU_NOTA_CH'].fillna(0)\n",
    "df_notas_teste['NU_NOTA_LC'] = df_notas_teste['NU_NOTA_LC'].fillna(0)\n",
    "\n",
    "#Truncation and rounding\n",
    "df_notas_teste['NU_NOTA_REDACAO'] = df_notas_teste['NU_NOTA_REDACAO'].round(decimals = 0)\n",
    "df_notas_teste['NU_NOTA_COMP1'] = df_notas_teste['NU_NOTA_COMP1'].round(decimals = 0)\n",
    "df_notas_teste['NU_NOTA_COMP2'] = df_notas_teste['NU_NOTA_COMP2'].round(decimals = 0)\n",
    "df_notas_teste['NU_NOTA_COMP3'] = df_notas_teste['NU_NOTA_COMP3'].round(decimals = 0)\n",
    "df_notas_teste['NU_NOTA_COMP4'] = df_notas_teste['NU_NOTA_COMP4'].round(decimals = 0)\n",
    "df_notas_teste['NU_NOTA_COMP5'] = df_notas_teste['NU_NOTA_COMP5'].round(decimals = 0)"
   ]
  },
  {
   "cell_type": "code",
   "execution_count": 265,
   "metadata": {},
   "outputs": [
    {
     "name": "stdout",
     "output_type": "stream",
     "text": [
      "NU_INSCRICAO       0\n",
      "NU_IDADE           0\n",
      "TP_ANO_CONCLUIU    0\n",
      "TP_ESCOLA          0\n",
      "TP_PRESENCA_CN     0\n",
      "TP_PRESENCA_CH     0\n",
      "TP_PRESENCA_LC     0\n",
      "NU_NOTA_CN         0\n",
      "NU_NOTA_CH         0\n",
      "NU_NOTA_LC         0\n",
      "NU_NOTA_COMP1      0\n",
      "NU_NOTA_COMP2      0\n",
      "NU_NOTA_COMP3      0\n",
      "NU_NOTA_COMP4      0\n",
      "NU_NOTA_COMP5      0\n",
      "NU_NOTA_REDACAO    0\n",
      "dtype: int64\n"
     ]
    }
   ],
   "source": [
    "print(df_notas_teste.isna().sum())"
   ]
  },
  {
   "cell_type": "code",
   "execution_count": 266,
   "metadata": {},
   "outputs": [],
   "source": [
    "# Normalizing data\n",
    "df_notas_teste1 = df_notas_teste.iloc[:,1:]\n",
    "df_norm_teste1 = (df_notas_teste1 - df_notas_teste1.mean()) / (df_notas_teste1.max() - df_notas_teste1.min())\n",
    "DT_df_norm_teste1 = np.array(df_norm_teste1)"
   ]
  },
  {
   "cell_type": "markdown",
   "metadata": {},
   "source": [
    "### Making Predictions with the Trained Model"
   ]
  },
  {
   "cell_type": "code",
   "execution_count": 239,
   "metadata": {},
   "outputs": [
    {
     "data": {
      "text/plain": [
       "array([436.2, 432.1, 336.9, ..., 532.1, 434.4,  67.1])"
      ]
     },
     "execution_count": 239,
     "metadata": {},
     "output_type": "execute_result"
    }
   ],
   "source": [
    "# Predictions with LinearRegression (modelo_v1)\n",
    "predict_teste_v1 = modelo_v1.predict(df_norm_teste1)\n",
    "predict_teste_v1 = predict_teste_v1.round(decimals = 1)\n",
    "predict_teste_v1"
   ]
  },
  {
   "cell_type": "code",
   "execution_count": 286,
   "metadata": {},
   "outputs": [
    {
     "data": {
      "text/plain": [
       "array([525.3, 487.1, 485.7, ..., 511.8, 457.6,   0. ])"
      ]
     },
     "execution_count": 286,
     "metadata": {},
     "output_type": "execute_result"
    }
   ],
   "source": [
    "# Predictions with AdaBoostRegressor (modelo_v2a)\n",
    "predict_teste_v2 = modelo_v2a.predict(DT_df_norm_teste1)\n",
    "predict_teste_v2 = predict_teste_v2.round(decimals = 1)\n",
    "predict_teste_v2"
   ]
  },
  {
   "cell_type": "code",
   "execution_count": 346,
   "metadata": {},
   "outputs": [
    {
     "data": {
      "text/plain": [
       "array([479.1, 512.4, 637.9, ..., 505.3, 456.4,  23.1])"
      ]
     },
     "execution_count": 346,
     "metadata": {},
     "output_type": "execute_result"
    }
   ],
   "source": [
    "# Predictions with GradientBoostingRegressor (modelo_v3) - Best result to this problem\n",
    "predict_teste_v3 = modelo_v3.predict(DT_df_norm_teste1)\n",
    "predict_teste_v3 = predict_teste_v3.round(decimals = 1)\n",
    "predict_teste_v3"
   ]
  },
  {
   "cell_type": "markdown",
   "metadata": {},
   "source": [
    "### Creating file .CSV to the results"
   ]
  },
  {
   "cell_type": "code",
   "execution_count": 347,
   "metadata": {},
   "outputs": [],
   "source": [
    "answer = notas_teste\n",
    "answer = answer.iloc[:,0:1]\n",
    "answer.insert(1, \"NU_NOTA_MT\", predict_teste_v3, True) \n",
    "answer.to_csv('answer.csv')"
   ]
  }
 ],
 "metadata": {
  "kernelspec": {
   "display_name": "Python 3",
   "language": "python",
   "name": "python3"
  },
  "language_info": {
   "codemirror_mode": {
    "name": "ipython",
    "version": 3
   },
   "file_extension": ".py",
   "mimetype": "text/x-python",
   "name": "python",
   "nbconvert_exporter": "python",
   "pygments_lexer": "ipython3",
   "version": "3.6.5"
  }
 },
 "nbformat": 4,
 "nbformat_minor": 4
}
